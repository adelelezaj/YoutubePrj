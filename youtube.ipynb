{
 "cells": [
  {
   "cell_type": "markdown",
   "metadata": {},
   "source": [
    "source: https://www.kaggle.com/hoonkeng/deep-analysis-on-youtube-trending-videos-eda/notebook\n"
   ]
  },
  {
   "cell_type": "code",
   "execution_count": 1,
   "metadata": {},
   "outputs": [],
   "source": [
    "import os\n",
    "import pandas as pd\n",
    "import seaborn as sns\n",
    "import matplotlib.pyplot as plt"
   ]
  },
  {
   "cell_type": "code",
   "execution_count": 2,
   "metadata": {},
   "outputs": [],
   "source": [
    "path = 'YoutubePrjData'\n",
    "filename1 = os.path.join('..',path,'dataframe.csv')\n",
    "filename2 = os.path.join('..', path,'dataframe_all_timestamps.csv')\n",
    "\n",
    "df = pd.read_csv(filename1)\n",
    "df_all_timestamps = pd.read_csv(filename2)"
   ]
  },
  {
   "cell_type": "code",
   "execution_count": 3,
   "metadata": {},
   "outputs": [
    {
     "name": "stdout",
     "output_type": "stream",
     "text": [
      "<class 'pandas.core.frame.DataFrame'>\n",
      "RangeIndex: 171149 entries, 0 to 171148\n",
      "Data columns (total 19 columns):\n",
      "video_id                  171149 non-null object\n",
      "trending_date             171149 non-null object\n",
      "title                     171149 non-null object\n",
      "channel_title             171149 non-null object\n",
      "category_id               171149 non-null int64\n",
      "category                  171149 non-null object\n",
      "publish_date              171149 non-null object\n",
      "publish_time              171149 non-null object\n",
      "tags                      171149 non-null object\n",
      "views                     171149 non-null int64\n",
      "likes                     171149 non-null int64\n",
      "dislikes                  171149 non-null int64\n",
      "comment_count             171149 non-null int64\n",
      "thumbnail_link            171149 non-null object\n",
      "comments_disabled         171149 non-null bool\n",
      "ratings_disabled          171149 non-null bool\n",
      "video_error_or_removed    171149 non-null bool\n",
      "description               171149 non-null object\n",
      "country                   171149 non-null object\n",
      "dtypes: bool(3), int64(5), object(11)\n",
      "memory usage: 21.4+ MB\n"
     ]
    }
   ],
   "source": [
    "df.info()"
   ]
  },
  {
   "cell_type": "code",
   "execution_count": 4,
   "metadata": {},
   "outputs": [
    {
     "name": "stdout",
     "output_type": "stream",
     "text": [
      "<class 'pandas.core.frame.DataFrame'>\n",
      "RangeIndex: 356350 entries, 0 to 356349\n",
      "Data columns (total 19 columns):\n",
      "video_id                  356350 non-null object\n",
      "trending_date             356350 non-null object\n",
      "title                     356350 non-null object\n",
      "channel_title             356350 non-null object\n",
      "category_id               356350 non-null int64\n",
      "category                  356350 non-null object\n",
      "publish_date              356350 non-null object\n",
      "publish_time              356350 non-null object\n",
      "tags                      356350 non-null object\n",
      "views                     356350 non-null int64\n",
      "likes                     356350 non-null int64\n",
      "dislikes                  356350 non-null int64\n",
      "comment_count             356350 non-null int64\n",
      "thumbnail_link            356350 non-null object\n",
      "comments_disabled         356350 non-null bool\n",
      "ratings_disabled          356350 non-null bool\n",
      "video_error_or_removed    356350 non-null bool\n",
      "description               356350 non-null object\n",
      "country                   356350 non-null object\n",
      "dtypes: bool(3), int64(5), object(11)\n",
      "memory usage: 44.5+ MB\n"
     ]
    }
   ],
   "source": [
    "df_all_timestamps.info()"
   ]
  },
  {
   "cell_type": "code",
   "execution_count": 89,
   "metadata": {
    "scrolled": true
   },
   "outputs": [
    {
     "data": {
      "text/html": [
       "<div>\n",
       "<style scoped>\n",
       "    .dataframe tbody tr th:only-of-type {\n",
       "        vertical-align: middle;\n",
       "    }\n",
       "\n",
       "    .dataframe tbody tr th {\n",
       "        vertical-align: top;\n",
       "    }\n",
       "\n",
       "    .dataframe thead th {\n",
       "        text-align: right;\n",
       "    }\n",
       "</style>\n",
       "<table border=\"1\" class=\"dataframe\">\n",
       "  <thead>\n",
       "    <tr style=\"text-align: right;\">\n",
       "      <th></th>\n",
       "      <th>video_id</th>\n",
       "      <th>trending_date</th>\n",
       "      <th>title</th>\n",
       "      <th>channel_title</th>\n",
       "      <th>category_id</th>\n",
       "      <th>category</th>\n",
       "      <th>publish_date</th>\n",
       "      <th>publish_time</th>\n",
       "      <th>tags</th>\n",
       "      <th>views</th>\n",
       "      <th>likes</th>\n",
       "      <th>dislikes</th>\n",
       "      <th>comment_count</th>\n",
       "      <th>thumbnail_link</th>\n",
       "      <th>comments_disabled</th>\n",
       "      <th>ratings_disabled</th>\n",
       "      <th>video_error_or_removed</th>\n",
       "      <th>description</th>\n",
       "      <th>country</th>\n",
       "    </tr>\n",
       "  </thead>\n",
       "  <tbody>\n",
       "    <tr>\n",
       "      <td>0</td>\n",
       "      <td>n1WpP7iowLc</td>\n",
       "      <td>2017-11-14</td>\n",
       "      <td>Eminem - Walk On Water (Audio) ft. Beyoncé</td>\n",
       "      <td>EminemVEVO</td>\n",
       "      <td>10</td>\n",
       "      <td>Music</td>\n",
       "      <td>2017-11-10</td>\n",
       "      <td>17:00:03</td>\n",
       "      <td>Eminem|\"Walk\"|\"On\"|\"Water\"|\"Aftermath/Shady/In...</td>\n",
       "      <td>17158579</td>\n",
       "      <td>787425</td>\n",
       "      <td>43420</td>\n",
       "      <td>125882</td>\n",
       "      <td>https://i.ytimg.com/vi/n1WpP7iowLc/default.jpg</td>\n",
       "      <td>False</td>\n",
       "      <td>False</td>\n",
       "      <td>False</td>\n",
       "      <td>Eminem's new track Walk on Water ft. Beyoncé i...</td>\n",
       "      <td>CA</td>\n",
       "    </tr>\n",
       "    <tr>\n",
       "      <td>1</td>\n",
       "      <td>cJon8yBKv3g</td>\n",
       "      <td>2017-11-14</td>\n",
       "      <td>Kingsman : Le Cercle d'or (Mickael J Critique)</td>\n",
       "      <td>MJ - FERMEZ LA</td>\n",
       "      <td>1</td>\n",
       "      <td>Film &amp; Animation</td>\n",
       "      <td>2017-11-12</td>\n",
       "      <td>17:58:57</td>\n",
       "      <td>VoxMakers\"|\"FERMEZ LA\"|\"Alert Spoiler\"|\"Matthe...</td>\n",
       "      <td>19487</td>\n",
       "      <td>1596</td>\n",
       "      <td>23</td>\n",
       "      <td>215</td>\n",
       "      <td>https://i.ytimg.com/vi/cJon8yBKv3g/default.jpg</td>\n",
       "      <td>False</td>\n",
       "      <td>False</td>\n",
       "      <td>False</td>\n",
       "      <td>Avec un peu de retard, voici l'avis de Mickael...</td>\n",
       "      <td>FR</td>\n",
       "    </tr>\n",
       "    <tr>\n",
       "      <td>2</td>\n",
       "      <td>g12KeCPRB4Q</td>\n",
       "      <td>2017-11-14</td>\n",
       "      <td>Vide grenier LIVE - 12 Novembre 2017</td>\n",
       "      <td>Kirby-54</td>\n",
       "      <td>20</td>\n",
       "      <td>Gaming</td>\n",
       "      <td>2017-11-12</td>\n",
       "      <td>13:46:18</td>\n",
       "      <td>Vide grenier\"|\"vide grenier live\"|\"brocante\"|\"...</td>\n",
       "      <td>20744</td>\n",
       "      <td>1032</td>\n",
       "      <td>558</td>\n",
       "      <td>243</td>\n",
       "      <td>https://i.ytimg.com/vi/g12KeCPRB4Q/default.jpg</td>\n",
       "      <td>False</td>\n",
       "      <td>False</td>\n",
       "      <td>False</td>\n",
       "      <td>C'est reparti pour un nouveau compte rendu vid...</td>\n",
       "      <td>FR</td>\n",
       "    </tr>\n",
       "    <tr>\n",
       "      <td>3</td>\n",
       "      <td>irIZRH3JlIw</td>\n",
       "      <td>2017-11-14</td>\n",
       "      <td>لقجع يثور في وجه الإتحاد الإيفواري بسبب الجماه...</td>\n",
       "      <td>أخبار اليوم</td>\n",
       "      <td>25</td>\n",
       "      <td>News &amp; Politics</td>\n",
       "      <td>2017-11-12</td>\n",
       "      <td>19:08:08</td>\n",
       "      <td>قناة أخبار اليوم\"|\"يومية المغرب\"|\"دولية\"|\"قضية...</td>\n",
       "      <td>207452</td>\n",
       "      <td>1415</td>\n",
       "      <td>148</td>\n",
       "      <td>90</td>\n",
       "      <td>https://i.ytimg.com/vi/irIZRH3JlIw/default.jpg</td>\n",
       "      <td>False</td>\n",
       "      <td>False</td>\n",
       "      <td>False</td>\n",
       "      <td>لقجع يثور في وجه الإتحاد الإيفواري بسبب الجماه...</td>\n",
       "      <td>FR</td>\n",
       "    </tr>\n",
       "    <tr>\n",
       "      <td>4</td>\n",
       "      <td>SnHtzkQZggA</td>\n",
       "      <td>2017-11-14</td>\n",
       "      <td>عروس اسطنبول | اعلان الحلقة 25 | - مترجم للعربية</td>\n",
       "      <td>تركييتنا - bizim Türkiye</td>\n",
       "      <td>1</td>\n",
       "      <td>Film &amp; Animation</td>\n",
       "      <td>2017-11-13</td>\n",
       "      <td>19:58:33</td>\n",
       "      <td>مسلسل عروس اسطنبول\"|\"عروس اسطنبول\"|\"عروس اسطنب...</td>\n",
       "      <td>15899</td>\n",
       "      <td>142</td>\n",
       "      <td>10</td>\n",
       "      <td>7</td>\n",
       "      <td>https://i.ytimg.com/vi/SnHtzkQZggA/default.jpg</td>\n",
       "      <td>False</td>\n",
       "      <td>False</td>\n",
       "      <td>False</td>\n",
       "      <td>عروس اسطنبول | اعلان الحلقة 25 | - مترجم للعرب...</td>\n",
       "      <td>FR</td>\n",
       "    </tr>\n",
       "  </tbody>\n",
       "</table>\n",
       "</div>"
      ],
      "text/plain": [
       "      video_id trending_date  \\\n",
       "0  n1WpP7iowLc    2017-11-14   \n",
       "1  cJon8yBKv3g    2017-11-14   \n",
       "2  g12KeCPRB4Q    2017-11-14   \n",
       "3  irIZRH3JlIw    2017-11-14   \n",
       "4  SnHtzkQZggA    2017-11-14   \n",
       "\n",
       "                                               title  \\\n",
       "0         Eminem - Walk On Water (Audio) ft. Beyoncé   \n",
       "1     Kingsman : Le Cercle d'or (Mickael J Critique)   \n",
       "2               Vide grenier LIVE - 12 Novembre 2017   \n",
       "3  لقجع يثور في وجه الإتحاد الإيفواري بسبب الجماه...   \n",
       "4   عروس اسطنبول | اعلان الحلقة 25 | - مترجم للعربية   \n",
       "\n",
       "              channel_title  category_id          category publish_date  \\\n",
       "0                EminemVEVO           10             Music   2017-11-10   \n",
       "1            MJ - FERMEZ LA            1  Film & Animation   2017-11-12   \n",
       "2                  Kirby-54           20            Gaming   2017-11-12   \n",
       "3               أخبار اليوم           25   News & Politics   2017-11-12   \n",
       "4  تركييتنا - bizim Türkiye            1  Film & Animation   2017-11-13   \n",
       "\n",
       "  publish_time                                               tags     views  \\\n",
       "0     17:00:03  Eminem|\"Walk\"|\"On\"|\"Water\"|\"Aftermath/Shady/In...  17158579   \n",
       "1     17:58:57  VoxMakers\"|\"FERMEZ LA\"|\"Alert Spoiler\"|\"Matthe...     19487   \n",
       "2     13:46:18  Vide grenier\"|\"vide grenier live\"|\"brocante\"|\"...     20744   \n",
       "3     19:08:08  قناة أخبار اليوم\"|\"يومية المغرب\"|\"دولية\"|\"قضية...    207452   \n",
       "4     19:58:33  مسلسل عروس اسطنبول\"|\"عروس اسطنبول\"|\"عروس اسطنب...     15899   \n",
       "\n",
       "    likes  dislikes  comment_count  \\\n",
       "0  787425     43420         125882   \n",
       "1    1596        23            215   \n",
       "2    1032       558            243   \n",
       "3    1415       148             90   \n",
       "4     142        10              7   \n",
       "\n",
       "                                   thumbnail_link  comments_disabled  \\\n",
       "0  https://i.ytimg.com/vi/n1WpP7iowLc/default.jpg              False   \n",
       "1  https://i.ytimg.com/vi/cJon8yBKv3g/default.jpg              False   \n",
       "2  https://i.ytimg.com/vi/g12KeCPRB4Q/default.jpg              False   \n",
       "3  https://i.ytimg.com/vi/irIZRH3JlIw/default.jpg              False   \n",
       "4  https://i.ytimg.com/vi/SnHtzkQZggA/default.jpg              False   \n",
       "\n",
       "   ratings_disabled  video_error_or_removed  \\\n",
       "0             False                   False   \n",
       "1             False                   False   \n",
       "2             False                   False   \n",
       "3             False                   False   \n",
       "4             False                   False   \n",
       "\n",
       "                                         description country  \n",
       "0  Eminem's new track Walk on Water ft. Beyoncé i...      CA  \n",
       "1  Avec un peu de retard, voici l'avis de Mickael...      FR  \n",
       "2  C'est reparti pour un nouveau compte rendu vid...      FR  \n",
       "3  لقجع يثور في وجه الإتحاد الإيفواري بسبب الجماه...      FR  \n",
       "4  عروس اسطنبول | اعلان الحلقة 25 | - مترجم للعرب...      FR  "
      ]
     },
     "execution_count": 89,
     "metadata": {},
     "output_type": "execute_result"
    }
   ],
   "source": [
    "df_all_timestamps.head(5)"
   ]
  },
  {
   "cell_type": "code",
   "execution_count": 105,
   "metadata": {},
   "outputs": [
    {
     "data": {
      "text/plain": [
       "Entertainment            50468\n",
       "People & Blogs           28045\n",
       "News & Politics          20327\n",
       "Sports                   12561\n",
       "Comedy                   10358\n",
       "Music                    10145\n",
       "Howto & Style             9580\n",
       "Film & Animation          8460\n",
       "Gaming                    5318\n",
       "Education                 3897\n",
       "Science & Technology      3404\n",
       "Autos & Vehicles          3274\n",
       "Pets & Animals            2271\n",
       "Nonprofits & Activism     1779\n",
       "Travel & Events            812\n",
       "Shows                      435\n",
       "Movies                      12\n",
       "Trailers                     3\n",
       "Name: category, dtype: int64"
      ]
     },
     "execution_count": 105,
     "metadata": {},
     "output_type": "execute_result"
    }
   ],
   "source": [
    "counts = df['category'].value_counts()\n",
    "counts\n",
    "\n",
    "#The largest number of the video uploads comes from the Entertainment category, followed by People & Blogs. "
   ]
  },
  {
   "cell_type": "code",
   "execution_count": 106,
   "metadata": {},
   "outputs": [
    {
     "data": {
      "text/plain": [
       "Text(0, 0.5, 'Number of videos by category')"
      ]
     },
     "execution_count": 106,
     "metadata": {},
     "output_type": "execute_result"
    },
    {
     "data": {
      "image/png": "[encoded data removed]",
      "text/plain": [
       "<Figure size 720x720 with 1 Axes>"
      ]
     },
     "metadata": {
      "needs_background": "light"
     },
     "output_type": "display_data"
    }
   ],
   "source": [
    "fig = plt.figure(figsize=(10,10)) # define plot area\n",
    "ax = fig.gca() # define axis \n",
    "\n",
    "counts.plot.bar(ax = ax) # Use the plot.bar method on the counts data frame\n",
    "\n",
    "ax.set_title('Number of video uploads by country') # Give the plot a main title\n",
    "ax.set_xlabel('Category') # Set text for the x axis\n",
    "ax.set_ylabel('Number of videos by category')# Set text for y axis"
   ]
  },
  {
   "cell_type": "code",
   "execution_count": 107,
   "metadata": {},
   "outputs": [
    {
     "data": {
      "text/plain": [
       "RU    30783\n",
       "MX    27900\n",
       "FR    24085\n",
       "DE    22965\n",
       "CA    17338\n",
       "IN    15222\n",
       "KR    13793\n",
       "JP    10808\n",
       "US     5185\n",
       "GB     3070\n",
       "Name: country, dtype: int64"
      ]
     },
     "execution_count": 107,
     "metadata": {},
     "output_type": "execute_result"
    }
   ],
   "source": [
    "counts = df['country'].value_counts()\n",
    "counts\n",
    "#Most videos are uploaded from channels in Russia, and least ones from channels in GB."
   ]
  },
  {
   "cell_type": "code",
   "execution_count": 108,
   "metadata": {},
   "outputs": [
    {
     "data": {
      "text/plain": [
       "Text(0, 0.5, 'Number of autos')"
      ]
     },
     "execution_count": 108,
     "metadata": {},
     "output_type": "execute_result"
    },
    {
     "data": {
      "image/png": "[encoded data removed]",
      "text/plain": [
       "<Figure size 720x720 with 1 Axes>"
      ]
     },
     "metadata": {
      "needs_background": "light"
     },
     "output_type": "display_data"
    }
   ],
   "source": [
    "fig = plt.figure(figsize=(10,10)) # define plot area\n",
    "ax = fig.gca() # define axis \n",
    "\n",
    "counts.plot.bar(ax = ax) # Use the plot.bar method on the counts data frame\n",
    "\n",
    "ax.set_title('Number of video uploads by country') # Give the plot a main title\n",
    "ax.set_xlabel('Country') # Set text for the x axis\n",
    "ax.set_ylabel('Number of autos')# Set text for y axis"
   ]
  },
  {
   "cell_type": "code",
   "execution_count": 11,
   "metadata": {},
   "outputs": [
    {
     "data": {
      "image/png": "[encoded data removed]",
      "text/plain": [
       "<Figure size 432x288 with 1 Axes>"
      ]
     },
     "metadata": {
      "needs_background": "light"
     },
     "output_type": "display_data"
    }
   ],
   "source": [
    "ax = sns.barplot(x= 'country', y='likes', data= df) #Eventhough GB is the least active country in video uploads, GB \n",
    "#is most active country in views, likes, dislikes, comment_count engagements."
   ]
  },
  {
   "cell_type": "code",
   "execution_count": 12,
   "metadata": {},
   "outputs": [
    {
     "data": {
      "image/png": "[encoded data removed]",
      "text/plain": [
       "<Figure size 432x288 with 1 Axes>"
      ]
     },
     "metadata": {
      "needs_background": "light"
     },
     "output_type": "display_data"
    }
   ],
   "source": [
    "ax = sns.barplot(x= 'country', y= 'dislikes', data= df)"
   ]
  },
  {
   "cell_type": "code",
   "execution_count": 13,
   "metadata": {},
   "outputs": [
    {
     "data": {
      "image/png": "[encoded data removed]",
      "text/plain": [
       "<Figure size 432x288 with 1 Axes>"
      ]
     },
     "metadata": {
      "needs_background": "light"
     },
     "output_type": "display_data"
    }
   ],
   "source": [
    "ax = sns.barplot(x= 'country', y='views', data= df)"
   ]
  },
  {
   "cell_type": "code",
   "execution_count": 14,
   "metadata": {},
   "outputs": [
    {
     "data": {
      "image/png": "[encoded data removed]",
      "text/plain": [
       "<Figure size 432x288 with 1 Axes>"
      ]
     },
     "metadata": {
      "needs_background": "light"
     },
     "output_type": "display_data"
    }
   ],
   "source": [
    "ax = sns.barplot(x= 'country', y='comment_count', data= df)"
   ]
  },
  {
   "cell_type": "code",
   "execution_count": 16,
   "metadata": {},
   "outputs": [
    {
     "data": {
      "text/html": [
       "<div>\n",
       "<style scoped>\n",
       "    .dataframe tbody tr th:only-of-type {\n",
       "        vertical-align: middle;\n",
       "    }\n",
       "\n",
       "    .dataframe tbody tr th {\n",
       "        vertical-align: top;\n",
       "    }\n",
       "\n",
       "    .dataframe thead th {\n",
       "        text-align: right;\n",
       "    }\n",
       "</style>\n",
       "<table border=\"1\" class=\"dataframe\">\n",
       "  <thead>\n",
       "    <tr style=\"text-align: right;\">\n",
       "      <th></th>\n",
       "      <th>video_id</th>\n",
       "      <th>trending_date</th>\n",
       "      <th>title</th>\n",
       "      <th>channel_title</th>\n",
       "      <th>category_id</th>\n",
       "      <th>category</th>\n",
       "      <th>publish_date</th>\n",
       "      <th>publish_time</th>\n",
       "      <th>tags</th>\n",
       "      <th>views</th>\n",
       "      <th>likes</th>\n",
       "      <th>dislikes</th>\n",
       "      <th>comment_count</th>\n",
       "      <th>thumbnail_link</th>\n",
       "      <th>comments_disabled</th>\n",
       "      <th>ratings_disabled</th>\n",
       "      <th>video_error_or_removed</th>\n",
       "      <th>description</th>\n",
       "      <th>country</th>\n",
       "    </tr>\n",
       "  </thead>\n",
       "  <tbody>\n",
       "    <tr>\n",
       "      <td>432</td>\n",
       "      <td>rHwDegptbI4</td>\n",
       "      <td>2017-11-14</td>\n",
       "      <td>Dashcam captures truck's near miss with child ...</td>\n",
       "      <td>Cute Girl Videos</td>\n",
       "      <td>25</td>\n",
       "      <td>News &amp; Politics</td>\n",
       "      <td>2017-11-13</td>\n",
       "      <td>01:45:13</td>\n",
       "      <td>[none]</td>\n",
       "      <td>9815</td>\n",
       "      <td>30</td>\n",
       "      <td>2</td>\n",
       "      <td>30</td>\n",
       "      <td>https://i.ytimg.com/vi/rHwDegptbI4/default.jpg</td>\n",
       "      <td>False</td>\n",
       "      <td>False</td>\n",
       "      <td>False</td>\n",
       "      <td>Dashcam captures truck's near miss with child ...</td>\n",
       "      <td>GB</td>\n",
       "    </tr>\n",
       "    <tr>\n",
       "      <td>433</td>\n",
       "      <td>AumaWl0TNBo</td>\n",
       "      <td>2017-11-14</td>\n",
       "      <td>How My Relationship Started!</td>\n",
       "      <td>PointlessBlogVlogs</td>\n",
       "      <td>24</td>\n",
       "      <td>Entertainment</td>\n",
       "      <td>2017-11-11</td>\n",
       "      <td>17:00:00</td>\n",
       "      <td>pointlessblog|\"pointlessblogtv\"|\"pointlessblog...</td>\n",
       "      <td>1182775</td>\n",
       "      <td>52708</td>\n",
       "      <td>1431</td>\n",
       "      <td>2333</td>\n",
       "      <td>https://i.ytimg.com/vi/AumaWl0TNBo/default.jpg</td>\n",
       "      <td>False</td>\n",
       "      <td>False</td>\n",
       "      <td>False</td>\n",
       "      <td>► HOW MY RELATIONSHIP STARTED!\\n► PB Merch • h...</td>\n",
       "      <td>GB</td>\n",
       "    </tr>\n",
       "    <tr>\n",
       "      <td>434</td>\n",
       "      <td>-N5eucPMTTc</td>\n",
       "      <td>2017-11-14</td>\n",
       "      <td>CHRISTMAS HAS GONE TO MY HEAD</td>\n",
       "      <td>MoreZoella</td>\n",
       "      <td>22</td>\n",
       "      <td>People &amp; Blogs</td>\n",
       "      <td>2017-11-10</td>\n",
       "      <td>19:19:43</td>\n",
       "      <td>zoe sugg|\"zoella\"|\"zoe\"|\"vlog\"|\"vlogging\"|\"vlo...</td>\n",
       "      <td>1164201</td>\n",
       "      <td>57309</td>\n",
       "      <td>749</td>\n",
       "      <td>624</td>\n",
       "      <td>https://i.ytimg.com/vi/-N5eucPMTTc/default.jpg</td>\n",
       "      <td>False</td>\n",
       "      <td>False</td>\n",
       "      <td>False</td>\n",
       "      <td>CHRISTMAS HAS GONE TO MY HEAD\\nPrevious Vlog: ...</td>\n",
       "      <td>GB</td>\n",
       "    </tr>\n",
       "    <tr>\n",
       "      <td>436</td>\n",
       "      <td>fiusxyygqGk</td>\n",
       "      <td>2017-11-14</td>\n",
       "      <td>Marshmello - You &amp; Me (Official Music Video)</td>\n",
       "      <td>marshmello</td>\n",
       "      <td>10</td>\n",
       "      <td>Music</td>\n",
       "      <td>2017-11-10</td>\n",
       "      <td>15:00:03</td>\n",
       "      <td>selena gomez wolves|\"alone marshmello\"|\"marshm...</td>\n",
       "      <td>3407008</td>\n",
       "      <td>207262</td>\n",
       "      <td>3167</td>\n",
       "      <td>13279</td>\n",
       "      <td>https://i.ytimg.com/vi/fiusxyygqGk/default.jpg</td>\n",
       "      <td>False</td>\n",
       "      <td>False</td>\n",
       "      <td>False</td>\n",
       "      <td>PURCHASE YOU &amp; ME HERE ▶ https://smarturl.it/m...</td>\n",
       "      <td>GB</td>\n",
       "    </tr>\n",
       "    <tr>\n",
       "      <td>466</td>\n",
       "      <td>mCx26FLXWuI</td>\n",
       "      <td>2017-11-14</td>\n",
       "      <td>Seth Rollins &amp; Dean Ambrose vs. Cesaro &amp; Sheam...</td>\n",
       "      <td>WWE</td>\n",
       "      <td>17</td>\n",
       "      <td>Sports</td>\n",
       "      <td>2017-11-07</td>\n",
       "      <td>04:52:25</td>\n",
       "      <td>wwe|\"world wrestling entertainment\"|\"wrestling...</td>\n",
       "      <td>1689382</td>\n",
       "      <td>24186</td>\n",
       "      <td>3330</td>\n",
       "      <td>3414</td>\n",
       "      <td>https://i.ytimg.com/vi/mCx26FLXWuI/default.jpg</td>\n",
       "      <td>False</td>\n",
       "      <td>False</td>\n",
       "      <td>False</td>\n",
       "      <td>In a main event with enormous Survivor Series ...</td>\n",
       "      <td>GB</td>\n",
       "    </tr>\n",
       "    <tr>\n",
       "      <td>...</td>\n",
       "      <td>...</td>\n",
       "      <td>...</td>\n",
       "      <td>...</td>\n",
       "      <td>...</td>\n",
       "      <td>...</td>\n",
       "      <td>...</td>\n",
       "      <td>...</td>\n",
       "      <td>...</td>\n",
       "      <td>...</td>\n",
       "      <td>...</td>\n",
       "      <td>...</td>\n",
       "      <td>...</td>\n",
       "      <td>...</td>\n",
       "      <td>...</td>\n",
       "      <td>...</td>\n",
       "      <td>...</td>\n",
       "      <td>...</td>\n",
       "      <td>...</td>\n",
       "      <td>...</td>\n",
       "    </tr>\n",
       "    <tr>\n",
       "      <td>170148</td>\n",
       "      <td>oTn329CjrRA</td>\n",
       "      <td>2018-06-14</td>\n",
       "      <td>LeBron James and Draymond Green Face Off in NB...</td>\n",
       "      <td>UNINTERRUPTED</td>\n",
       "      <td>17</td>\n",
       "      <td>Sports</td>\n",
       "      <td>2018-06-11</td>\n",
       "      <td>17:28:35</td>\n",
       "      <td>UNINTERRUPTED|\"lebron james\"|\"cleveland cavali...</td>\n",
       "      <td>129026</td>\n",
       "      <td>1638</td>\n",
       "      <td>29</td>\n",
       "      <td>275</td>\n",
       "      <td>https://i.ytimg.com/vi/oTn329CjrRA/default.jpg</td>\n",
       "      <td>False</td>\n",
       "      <td>False</td>\n",
       "      <td>False</td>\n",
       "      <td>The Cavs and Warriors stars' routines for the ...</td>\n",
       "      <td>GB</td>\n",
       "    </tr>\n",
       "    <tr>\n",
       "      <td>170149</td>\n",
       "      <td>VhQmTmqcEY0</td>\n",
       "      <td>2018-06-14</td>\n",
       "      <td>Juanes - Pa Dentro</td>\n",
       "      <td>JuanesVEVO</td>\n",
       "      <td>10</td>\n",
       "      <td>Music</td>\n",
       "      <td>2018-06-01</td>\n",
       "      <td>02:00:01</td>\n",
       "      <td>Juanes|\"Pa\"|\"Dentro\"|\"Universal\"|\"Music\"|\"Lati...</td>\n",
       "      <td>21853809</td>\n",
       "      <td>78212</td>\n",
       "      <td>5701</td>\n",
       "      <td>4780</td>\n",
       "      <td>https://i.ytimg.com/vi/VhQmTmqcEY0/default.jpg</td>\n",
       "      <td>False</td>\n",
       "      <td>False</td>\n",
       "      <td>False</td>\n",
       "      <td>Music video by Juanes performing Pa Dentro. © ...</td>\n",
       "      <td>GB</td>\n",
       "    </tr>\n",
       "    <tr>\n",
       "      <td>170150</td>\n",
       "      <td>ek1ePFp-nBI</td>\n",
       "      <td>2018-06-14</td>\n",
       "      <td>Halloween - Official Trailer (HD)</td>\n",
       "      <td>Universal Pictures</td>\n",
       "      <td>24</td>\n",
       "      <td>Entertainment</td>\n",
       "      <td>2018-06-08</td>\n",
       "      <td>14:00:03</td>\n",
       "      <td>halloween|\"horror\"|\"horror movie\"|\"scary movie...</td>\n",
       "      <td>12955997</td>\n",
       "      <td>200539</td>\n",
       "      <td>7647</td>\n",
       "      <td>35147</td>\n",
       "      <td>https://i.ytimg.com/vi/ek1ePFp-nBI/default.jpg</td>\n",
       "      <td>False</td>\n",
       "      <td>False</td>\n",
       "      <td>False</td>\n",
       "      <td>This October, Michael Myers returns. Watch the...</td>\n",
       "      <td>GB</td>\n",
       "    </tr>\n",
       "    <tr>\n",
       "      <td>170151</td>\n",
       "      <td>QRyzwPzxpcs</td>\n",
       "      <td>2018-06-14</td>\n",
       "      <td>Sea of Thieves - E3 2018 - Cursed Sails and Fo...</td>\n",
       "      <td>Xbox</td>\n",
       "      <td>20</td>\n",
       "      <td>Gaming</td>\n",
       "      <td>2018-06-10</td>\n",
       "      <td>20:29:46</td>\n",
       "      <td>Xbox|\"Xbox360\"|\"xbox 360\"|\"Xbox One\"|\"Rare\"|\"S...</td>\n",
       "      <td>1152245</td>\n",
       "      <td>2810</td>\n",
       "      <td>247</td>\n",
       "      <td>520</td>\n",
       "      <td>https://i.ytimg.com/vi/QRyzwPzxpcs/default.jpg</td>\n",
       "      <td>False</td>\n",
       "      <td>False</td>\n",
       "      <td>False</td>\n",
       "      <td>Sea of Thieves' world continues to evolve in t...</td>\n",
       "      <td>GB</td>\n",
       "    </tr>\n",
       "    <tr>\n",
       "      <td>170152</td>\n",
       "      <td>ExJmET8boVw</td>\n",
       "      <td>2018-06-14</td>\n",
       "      <td>Rita Ora - Girls ft. Cardi B, Bebe Rexha &amp; Cha...</td>\n",
       "      <td>Rita Ora</td>\n",
       "      <td>24</td>\n",
       "      <td>Entertainment</td>\n",
       "      <td>2018-06-06</td>\n",
       "      <td>15:01:10</td>\n",
       "      <td>Rita Ora|\"Rita\"|\"Ora\"|\"Official Video\"|\"Girls\"...</td>\n",
       "      <td>14134753</td>\n",
       "      <td>402524</td>\n",
       "      <td>28569</td>\n",
       "      <td>29894</td>\n",
       "      <td>https://i.ytimg.com/vi/ExJmET8boVw/default.jpg</td>\n",
       "      <td>False</td>\n",
       "      <td>False</td>\n",
       "      <td>False</td>\n",
       "      <td>The Official Video for Rita Ora 'Girls' ft. Ca...</td>\n",
       "      <td>GB</td>\n",
       "    </tr>\n",
       "  </tbody>\n",
       "</table>\n",
       "<p>3070 rows × 19 columns</p>\n",
       "</div>"
      ],
      "text/plain": [
       "           video_id trending_date  \\\n",
       "432     rHwDegptbI4    2017-11-14   \n",
       "433     AumaWl0TNBo    2017-11-14   \n",
       "434     -N5eucPMTTc    2017-11-14   \n",
       "436     fiusxyygqGk    2017-11-14   \n",
       "466     mCx26FLXWuI    2017-11-14   \n",
       "...             ...           ...   \n",
       "170148  oTn329CjrRA    2018-06-14   \n",
       "170149  VhQmTmqcEY0    2018-06-14   \n",
       "170150  ek1ePFp-nBI    2018-06-14   \n",
       "170151  QRyzwPzxpcs    2018-06-14   \n",
       "170152  ExJmET8boVw    2018-06-14   \n",
       "\n",
       "                                                    title       channel_title  \\\n",
       "432     Dashcam captures truck's near miss with child ...    Cute Girl Videos   \n",
       "433                          How My Relationship Started!  PointlessBlogVlogs   \n",
       "434                         CHRISTMAS HAS GONE TO MY HEAD          MoreZoella   \n",
       "436          Marshmello - You & Me (Official Music Video)          marshmello   \n",
       "466     Seth Rollins & Dean Ambrose vs. Cesaro & Sheam...                 WWE   \n",
       "...                                                   ...                 ...   \n",
       "170148  LeBron James and Draymond Green Face Off in NB...       UNINTERRUPTED   \n",
       "170149                                 Juanes - Pa Dentro          JuanesVEVO   \n",
       "170150                  Halloween - Official Trailer (HD)  Universal Pictures   \n",
       "170151  Sea of Thieves - E3 2018 - Cursed Sails and Fo...                Xbox   \n",
       "170152  Rita Ora - Girls ft. Cardi B, Bebe Rexha & Cha...            Rita Ora   \n",
       "\n",
       "        category_id         category publish_date publish_time  \\\n",
       "432              25  News & Politics   2017-11-13     01:45:13   \n",
       "433              24    Entertainment   2017-11-11     17:00:00   \n",
       "434              22   People & Blogs   2017-11-10     19:19:43   \n",
       "436              10            Music   2017-11-10     15:00:03   \n",
       "466              17           Sports   2017-11-07     04:52:25   \n",
       "...             ...              ...          ...          ...   \n",
       "170148           17           Sports   2018-06-11     17:28:35   \n",
       "170149           10            Music   2018-06-01     02:00:01   \n",
       "170150           24    Entertainment   2018-06-08     14:00:03   \n",
       "170151           20           Gaming   2018-06-10     20:29:46   \n",
       "170152           24    Entertainment   2018-06-06     15:01:10   \n",
       "\n",
       "                                                     tags     views   likes  \\\n",
       "432                                                [none]      9815      30   \n",
       "433     pointlessblog|\"pointlessblogtv\"|\"pointlessblog...   1182775   52708   \n",
       "434     zoe sugg|\"zoella\"|\"zoe\"|\"vlog\"|\"vlogging\"|\"vlo...   1164201   57309   \n",
       "436     selena gomez wolves|\"alone marshmello\"|\"marshm...   3407008  207262   \n",
       "466     wwe|\"world wrestling entertainment\"|\"wrestling...   1689382   24186   \n",
       "...                                                   ...       ...     ...   \n",
       "170148  UNINTERRUPTED|\"lebron james\"|\"cleveland cavali...    129026    1638   \n",
       "170149  Juanes|\"Pa\"|\"Dentro\"|\"Universal\"|\"Music\"|\"Lati...  21853809   78212   \n",
       "170150  halloween|\"horror\"|\"horror movie\"|\"scary movie...  12955997  200539   \n",
       "170151  Xbox|\"Xbox360\"|\"xbox 360\"|\"Xbox One\"|\"Rare\"|\"S...   1152245    2810   \n",
       "170152  Rita Ora|\"Rita\"|\"Ora\"|\"Official Video\"|\"Girls\"...  14134753  402524   \n",
       "\n",
       "        dislikes  comment_count  \\\n",
       "432            2             30   \n",
       "433         1431           2333   \n",
       "434          749            624   \n",
       "436         3167          13279   \n",
       "466         3330           3414   \n",
       "...          ...            ...   \n",
       "170148        29            275   \n",
       "170149      5701           4780   \n",
       "170150      7647          35147   \n",
       "170151       247            520   \n",
       "170152     28569          29894   \n",
       "\n",
       "                                        thumbnail_link  comments_disabled  \\\n",
       "432     https://i.ytimg.com/vi/rHwDegptbI4/default.jpg              False   \n",
       "433     https://i.ytimg.com/vi/AumaWl0TNBo/default.jpg              False   \n",
       "434     https://i.ytimg.com/vi/-N5eucPMTTc/default.jpg              False   \n",
       "436     https://i.ytimg.com/vi/fiusxyygqGk/default.jpg              False   \n",
       "466     https://i.ytimg.com/vi/mCx26FLXWuI/default.jpg              False   \n",
       "...                                                ...                ...   \n",
       "170148  https://i.ytimg.com/vi/oTn329CjrRA/default.jpg              False   \n",
       "170149  https://i.ytimg.com/vi/VhQmTmqcEY0/default.jpg              False   \n",
       "170150  https://i.ytimg.com/vi/ek1ePFp-nBI/default.jpg              False   \n",
       "170151  https://i.ytimg.com/vi/QRyzwPzxpcs/default.jpg              False   \n",
       "170152  https://i.ytimg.com/vi/ExJmET8boVw/default.jpg              False   \n",
       "\n",
       "        ratings_disabled  video_error_or_removed  \\\n",
       "432                False                   False   \n",
       "433                False                   False   \n",
       "434                False                   False   \n",
       "436                False                   False   \n",
       "466                False                   False   \n",
       "...                  ...                     ...   \n",
       "170148             False                   False   \n",
       "170149             False                   False   \n",
       "170150             False                   False   \n",
       "170151             False                   False   \n",
       "170152             False                   False   \n",
       "\n",
       "                                              description country  \n",
       "432     Dashcam captures truck's near miss with child ...      GB  \n",
       "433     ► HOW MY RELATIONSHIP STARTED!\\n► PB Merch • h...      GB  \n",
       "434     CHRISTMAS HAS GONE TO MY HEAD\\nPrevious Vlog: ...      GB  \n",
       "436     PURCHASE YOU & ME HERE ▶ https://smarturl.it/m...      GB  \n",
       "466     In a main event with enormous Survivor Series ...      GB  \n",
       "...                                                   ...     ...  \n",
       "170148  The Cavs and Warriors stars' routines for the ...      GB  \n",
       "170149  Music video by Juanes performing Pa Dentro. © ...      GB  \n",
       "170150  This October, Michael Myers returns. Watch the...      GB  \n",
       "170151  Sea of Thieves' world continues to evolve in t...      GB  \n",
       "170152  The Official Video for Rita Ora 'Girls' ft. Ca...      GB  \n",
       "\n",
       "[3070 rows x 19 columns]"
      ]
     },
     "execution_count": 16,
     "metadata": {},
     "output_type": "execute_result"
    }
   ],
   "source": [
    "df.loc[df['country'] == 'GB'] #I created a dataframe only about GB."
   ]
  },
  {
   "cell_type": "code",
   "execution_count": 79,
   "metadata": {},
   "outputs": [],
   "source": [
    "gb_df = df.loc[df['country'] == 'GB']"
   ]
  },
  {
   "cell_type": "code",
   "execution_count": 110,
   "metadata": {},
   "outputs": [
    {
     "data": {
      "text/plain": [
       "Music                    844\n",
       "Entertainment            787\n",
       "People & Blogs           268\n",
       "Sports                   203\n",
       "Film & Animation         184\n",
       "Howto & Style            183\n",
       "Comedy                   181\n",
       "Gaming                   166\n",
       "News & Politics          116\n",
       "Education                 37\n",
       "Science & Technology      37\n",
       "Pets & Animals            36\n",
       "Autos & Vehicles          14\n",
       "Travel & Events           10\n",
       "Nonprofits & Activism      3\n",
       "Shows                      1\n",
       "Name: category, dtype: int64"
      ]
     },
     "execution_count": 110,
     "metadata": {},
     "output_type": "execute_result"
    }
   ],
   "source": [
    "counts = gb_df['category'].value_counts()\n",
    "counts\n",
    "\n",
    "#The category with the most video counts in GB is Music, followed by Entertainment."
   ]
  },
  {
   "cell_type": "code",
   "execution_count": 111,
   "metadata": {},
   "outputs": [
    {
     "data": {
      "text/plain": [
       "Text(0, 0.5, 'Counts')"
      ]
     },
     "execution_count": 111,
     "metadata": {},
     "output_type": "execute_result"
    },
    {
     "data": {
      "image/png": "[encoded data removed]",
      "text/plain": [
       "<Figure size 720x720 with 1 Axes>"
      ]
     },
     "metadata": {
      "needs_background": "light"
     },
     "output_type": "display_data"
    }
   ],
   "source": [
    "fig = plt.figure(figsize=(10,10))\n",
    "ax = fig.gca()\n",
    "\n",
    "counts.plot.bar(ax = ax)\n",
    "\n",
    "ax.set_title('Counts per category in GB')\n",
    "ax.set_xlabel('Category')\n",
    "ax.set_ylabel('Counts')"
   ]
  },
  {
   "cell_type": "code",
   "execution_count": null,
   "metadata": {},
   "outputs": [],
   "source": [
    "#And the most engagement with views,likes,dislikes and comments comes from that category."
   ]
  },
  {
   "cell_type": "code",
   "execution_count": 113,
   "metadata": {},
   "outputs": [
    {
     "data": {
      "image/png": "[encoded data removed]",
      "text/plain": [
       "<Figure size 432x288 with 1 Axes>"
      ]
     },
     "metadata": {
      "needs_background": "light"
     },
     "output_type": "display_data"
    }
   ],
   "source": [
    "gb_df.groupby('category')['views'].nunique().plot(kind='bar')\n",
    "plt.show()"
   ]
  },
  {
   "cell_type": "code",
   "execution_count": 21,
   "metadata": {},
   "outputs": [
    {
     "data": {
      "image/png": "[encoded data removed]",
      "text/plain": [
       "<Figure size 432x288 with 1 Axes>"
      ]
     },
     "metadata": {
      "needs_background": "light"
     },
     "output_type": "display_data"
    }
   ],
   "source": [
    "gb_df.groupby('category')['likes'].nunique().plot(kind='bar')\n",
    "plt.show()"
   ]
  },
  {
   "cell_type": "code",
   "execution_count": 22,
   "metadata": {},
   "outputs": [
    {
     "data": {
      "image/png": "[encoded data removed]",
      "text/plain": [
       "<Figure size 432x288 with 1 Axes>"
      ]
     },
     "metadata": {
      "needs_background": "light"
     },
     "output_type": "display_data"
    }
   ],
   "source": [
    "gb_df.groupby('category')['dislikes'].nunique().plot(kind='bar')\n",
    "plt.show()"
   ]
  },
  {
   "cell_type": "code",
   "execution_count": 31,
   "metadata": {},
   "outputs": [
    {
     "data": {
      "text/html": [
       "<div>\n",
       "<style scoped>\n",
       "    .dataframe tbody tr th:only-of-type {\n",
       "        vertical-align: middle;\n",
       "    }\n",
       "\n",
       "    .dataframe tbody tr th {\n",
       "        vertical-align: top;\n",
       "    }\n",
       "\n",
       "    .dataframe thead th {\n",
       "        text-align: right;\n",
       "    }\n",
       "</style>\n",
       "<table border=\"1\" class=\"dataframe\">\n",
       "  <thead>\n",
       "    <tr style=\"text-align: right;\">\n",
       "      <th></th>\n",
       "      <th>video_id</th>\n",
       "      <th>trending_date</th>\n",
       "      <th>title</th>\n",
       "      <th>channel_title</th>\n",
       "      <th>category_id</th>\n",
       "      <th>category</th>\n",
       "      <th>publish_date</th>\n",
       "      <th>publish_time</th>\n",
       "      <th>tags</th>\n",
       "      <th>views</th>\n",
       "      <th>likes</th>\n",
       "      <th>dislikes</th>\n",
       "      <th>comment_count</th>\n",
       "      <th>thumbnail_link</th>\n",
       "      <th>comments_disabled</th>\n",
       "      <th>ratings_disabled</th>\n",
       "      <th>video_error_or_removed</th>\n",
       "      <th>description</th>\n",
       "      <th>country</th>\n",
       "    </tr>\n",
       "  </thead>\n",
       "  <tbody>\n",
       "    <tr>\n",
       "      <td>436</td>\n",
       "      <td>fiusxyygqGk</td>\n",
       "      <td>2017-11-14</td>\n",
       "      <td>Marshmello - You &amp; Me (Official Music Video)</td>\n",
       "      <td>marshmello</td>\n",
       "      <td>10</td>\n",
       "      <td>Music</td>\n",
       "      <td>2017-11-10</td>\n",
       "      <td>15:00:03</td>\n",
       "      <td>selena gomez wolves|\"alone marshmello\"|\"marshm...</td>\n",
       "      <td>3407008</td>\n",
       "      <td>207262</td>\n",
       "      <td>3167</td>\n",
       "      <td>13279</td>\n",
       "      <td>https://i.ytimg.com/vi/fiusxyygqGk/default.jpg</td>\n",
       "      <td>False</td>\n",
       "      <td>False</td>\n",
       "      <td>False</td>\n",
       "      <td>PURCHASE YOU &amp; ME HERE ▶ https://smarturl.it/m...</td>\n",
       "      <td>GB</td>\n",
       "    </tr>\n",
       "    <tr>\n",
       "      <td>614</td>\n",
       "      <td>kqbJCW-jxYM</td>\n",
       "      <td>2017-11-14</td>\n",
       "      <td>Lil Kim Keeps It Real On Nicki Minaj, Biggie R...</td>\n",
       "      <td>HOT 97</td>\n",
       "      <td>10</td>\n",
       "      <td>Music</td>\n",
       "      <td>2017-11-03</td>\n",
       "      <td>13:48:20</td>\n",
       "      <td>hot97|\"hot97app\"|\"music\"|\"video\"|\"hip hop\"|\"ra...</td>\n",
       "      <td>407075</td>\n",
       "      <td>5819</td>\n",
       "      <td>598</td>\n",
       "      <td>2815</td>\n",
       "      <td>https://i.ytimg.com/vi/kqbJCW-jxYM/default.jpg</td>\n",
       "      <td>False</td>\n",
       "      <td>False</td>\n",
       "      <td>False</td>\n",
       "      <td>HOT 97 App: http://www.hot97.com/hot97app\\n\\nY...</td>\n",
       "      <td>GB</td>\n",
       "    </tr>\n",
       "    <tr>\n",
       "      <td>653</td>\n",
       "      <td>676hNIhKO2M</td>\n",
       "      <td>2017-11-14</td>\n",
       "      <td>Madison Beer - Say It To My Face (Official Audio)</td>\n",
       "      <td>MadisonBeerMusicVEVO</td>\n",
       "      <td>10</td>\n",
       "      <td>Music</td>\n",
       "      <td>2017-11-03</td>\n",
       "      <td>13:59:25</td>\n",
       "      <td>Madison|\"Beer\"|\"Say\"|\"It\"|\"To\"|\"My\"|\"Face\"|\"(O...</td>\n",
       "      <td>1053402</td>\n",
       "      <td>47309</td>\n",
       "      <td>1408</td>\n",
       "      <td>2407</td>\n",
       "      <td>https://i.ytimg.com/vi/676hNIhKO2M/default.jpg</td>\n",
       "      <td>False</td>\n",
       "      <td>False</td>\n",
       "      <td>False</td>\n",
       "      <td>Stream &amp; Download ‘Say It To My Face’ now from...</td>\n",
       "      <td>GB</td>\n",
       "    </tr>\n",
       "    <tr>\n",
       "      <td>659</td>\n",
       "      <td>Bu2Djx2ejlA</td>\n",
       "      <td>2017-11-14</td>\n",
       "      <td>The Making of a Song – “Gorgeous”</td>\n",
       "      <td>AT&amp;T</td>\n",
       "      <td>10</td>\n",
       "      <td>Music</td>\n",
       "      <td>2017-11-01</td>\n",
       "      <td>15:01:19</td>\n",
       "      <td>Taylor Swift NOW|\"Taylor Swift\"|\"Swifties\"|\"Re...</td>\n",
       "      <td>1961295</td>\n",
       "      <td>61000</td>\n",
       "      <td>1281</td>\n",
       "      <td>0</td>\n",
       "      <td>https://i.ytimg.com/vi/Bu2Djx2ejlA/default.jpg</td>\n",
       "      <td>True</td>\n",
       "      <td>False</td>\n",
       "      <td>False</td>\n",
       "      <td>Get an unprecedented glimpse into Taylor's son...</td>\n",
       "      <td>GB</td>\n",
       "    </tr>\n",
       "    <tr>\n",
       "      <td>661</td>\n",
       "      <td>Tl_Qfj8780M</td>\n",
       "      <td>2017-11-14</td>\n",
       "      <td>Milck - Quiet [Official Video]</td>\n",
       "      <td>MILCK</td>\n",
       "      <td>10</td>\n",
       "      <td>Music</td>\n",
       "      <td>2017-11-03</td>\n",
       "      <td>13:01:57</td>\n",
       "      <td>quiet|\"milck\"|\"ickw\"|\"i cant keep quiet\"|\"milk...</td>\n",
       "      <td>213094</td>\n",
       "      <td>2951</td>\n",
       "      <td>339</td>\n",
       "      <td>193</td>\n",
       "      <td>https://i.ytimg.com/vi/Tl_Qfj8780M/default.jpg</td>\n",
       "      <td>False</td>\n",
       "      <td>False</td>\n",
       "      <td>False</td>\n",
       "      <td>Trigger Warning: This video portrays subtle ye...</td>\n",
       "      <td>GB</td>\n",
       "    </tr>\n",
       "    <tr>\n",
       "      <td>...</td>\n",
       "      <td>...</td>\n",
       "      <td>...</td>\n",
       "      <td>...</td>\n",
       "      <td>...</td>\n",
       "      <td>...</td>\n",
       "      <td>...</td>\n",
       "      <td>...</td>\n",
       "      <td>...</td>\n",
       "      <td>...</td>\n",
       "      <td>...</td>\n",
       "      <td>...</td>\n",
       "      <td>...</td>\n",
       "      <td>...</td>\n",
       "      <td>...</td>\n",
       "      <td>...</td>\n",
       "      <td>...</td>\n",
       "      <td>...</td>\n",
       "      <td>...</td>\n",
       "      <td>...</td>\n",
       "    </tr>\n",
       "    <tr>\n",
       "      <td>170141</td>\n",
       "      <td>IDpWeURKkbI</td>\n",
       "      <td>2018-06-14</td>\n",
       "      <td>SHINee 샤이니 'I Want You' MV</td>\n",
       "      <td>SMTOWN</td>\n",
       "      <td>10</td>\n",
       "      <td>Music</td>\n",
       "      <td>2018-06-11</td>\n",
       "      <td>09:00:04</td>\n",
       "      <td>샤이니|\"SHINee\"|\"태민\"|\"민호\"|\"온유\"|\"키\"|\"종현\"|\"TAEMIN\"|...</td>\n",
       "      <td>2085778</td>\n",
       "      <td>300278</td>\n",
       "      <td>881</td>\n",
       "      <td>19531</td>\n",
       "      <td>https://i.ytimg.com/vi/IDpWeURKkbI/default.jpg</td>\n",
       "      <td>False</td>\n",
       "      <td>False</td>\n",
       "      <td>False</td>\n",
       "      <td>SHINee's the 6th album 'The Story of Light’ EP...</td>\n",
       "      <td>GB</td>\n",
       "    </tr>\n",
       "    <tr>\n",
       "      <td>170143</td>\n",
       "      <td>IMwganRtaPM</td>\n",
       "      <td>2018-06-14</td>\n",
       "      <td>Charlie Puth - In My Blood Live (Shawn Mendes ...</td>\n",
       "      <td>BBC Radio 1</td>\n",
       "      <td>10</td>\n",
       "      <td>Music</td>\n",
       "      <td>2018-06-08</td>\n",
       "      <td>13:49:47</td>\n",
       "      <td>Charlie Puth|\"Shawn Mendes\"|\"In My Blood\"|\"Liv...</td>\n",
       "      <td>813101</td>\n",
       "      <td>55587</td>\n",
       "      <td>863</td>\n",
       "      <td>2586</td>\n",
       "      <td>https://i.ytimg.com/vi/IMwganRtaPM/default.jpg</td>\n",
       "      <td>False</td>\n",
       "      <td>False</td>\n",
       "      <td>False</td>\n",
       "      <td>Charlie Puth covers his mate Shawn Mendes' tra...</td>\n",
       "      <td>GB</td>\n",
       "    </tr>\n",
       "    <tr>\n",
       "      <td>170146</td>\n",
       "      <td>V15BYnSr0P8</td>\n",
       "      <td>2018-06-14</td>\n",
       "      <td>Live It Up (Official Video) - Nicky Jam feat. ...</td>\n",
       "      <td>NickyJamTV</td>\n",
       "      <td>10</td>\n",
       "      <td>Music</td>\n",
       "      <td>2018-06-08</td>\n",
       "      <td>11:58:38</td>\n",
       "      <td>Nicky Jam|\"NickyJamPR\"|\"latin\"|\"will smith\"|\"E...</td>\n",
       "      <td>20409647</td>\n",
       "      <td>568680</td>\n",
       "      <td>44854</td>\n",
       "      <td>64390</td>\n",
       "      <td>https://i.ytimg.com/vi/V15BYnSr0P8/default.jpg</td>\n",
       "      <td>False</td>\n",
       "      <td>False</td>\n",
       "      <td>False</td>\n",
       "      <td>Nicky Jam feat. Will Smith &amp; Era Istrefi - Liv...</td>\n",
       "      <td>GB</td>\n",
       "    </tr>\n",
       "    <tr>\n",
       "      <td>170147</td>\n",
       "      <td>mUYsp5baMXo</td>\n",
       "      <td>2018-06-14</td>\n",
       "      <td>Maroon 5 - Three Little Birds</td>\n",
       "      <td>Maroon5VEVO</td>\n",
       "      <td>10</td>\n",
       "      <td>Music</td>\n",
       "      <td>2018-06-09</td>\n",
       "      <td>07:01:01</td>\n",
       "      <td>Maroon 5|\"Adam Levine\"|\"3 Little Birds\"|\"Girls...</td>\n",
       "      <td>5517903</td>\n",
       "      <td>243696</td>\n",
       "      <td>12874</td>\n",
       "      <td>16841</td>\n",
       "      <td>https://i.ytimg.com/vi/mUYsp5baMXo/default.jpg</td>\n",
       "      <td>False</td>\n",
       "      <td>False</td>\n",
       "      <td>False</td>\n",
       "      <td>3 Little Birds” is out now.http://smarturl.it/...</td>\n",
       "      <td>GB</td>\n",
       "    </tr>\n",
       "    <tr>\n",
       "      <td>170149</td>\n",
       "      <td>VhQmTmqcEY0</td>\n",
       "      <td>2018-06-14</td>\n",
       "      <td>Juanes - Pa Dentro</td>\n",
       "      <td>JuanesVEVO</td>\n",
       "      <td>10</td>\n",
       "      <td>Music</td>\n",
       "      <td>2018-06-01</td>\n",
       "      <td>02:00:01</td>\n",
       "      <td>Juanes|\"Pa\"|\"Dentro\"|\"Universal\"|\"Music\"|\"Lati...</td>\n",
       "      <td>21853809</td>\n",
       "      <td>78212</td>\n",
       "      <td>5701</td>\n",
       "      <td>4780</td>\n",
       "      <td>https://i.ytimg.com/vi/VhQmTmqcEY0/default.jpg</td>\n",
       "      <td>False</td>\n",
       "      <td>False</td>\n",
       "      <td>False</td>\n",
       "      <td>Music video by Juanes performing Pa Dentro. © ...</td>\n",
       "      <td>GB</td>\n",
       "    </tr>\n",
       "  </tbody>\n",
       "</table>\n",
       "<p>844 rows × 19 columns</p>\n",
       "</div>"
      ],
      "text/plain": [
       "           video_id trending_date  \\\n",
       "436     fiusxyygqGk    2017-11-14   \n",
       "614     kqbJCW-jxYM    2017-11-14   \n",
       "653     676hNIhKO2M    2017-11-14   \n",
       "659     Bu2Djx2ejlA    2017-11-14   \n",
       "661     Tl_Qfj8780M    2017-11-14   \n",
       "...             ...           ...   \n",
       "170141  IDpWeURKkbI    2018-06-14   \n",
       "170143  IMwganRtaPM    2018-06-14   \n",
       "170146  V15BYnSr0P8    2018-06-14   \n",
       "170147  mUYsp5baMXo    2018-06-14   \n",
       "170149  VhQmTmqcEY0    2018-06-14   \n",
       "\n",
       "                                                    title  \\\n",
       "436          Marshmello - You & Me (Official Music Video)   \n",
       "614     Lil Kim Keeps It Real On Nicki Minaj, Biggie R...   \n",
       "653     Madison Beer - Say It To My Face (Official Audio)   \n",
       "659                     The Making of a Song – “Gorgeous”   \n",
       "661                        Milck - Quiet [Official Video]   \n",
       "...                                                   ...   \n",
       "170141                         SHINee 샤이니 'I Want You' MV   \n",
       "170143  Charlie Puth - In My Blood Live (Shawn Mendes ...   \n",
       "170146  Live It Up (Official Video) - Nicky Jam feat. ...   \n",
       "170147                      Maroon 5 - Three Little Birds   \n",
       "170149                                 Juanes - Pa Dentro   \n",
       "\n",
       "               channel_title  category_id category publish_date publish_time  \\\n",
       "436               marshmello           10    Music   2017-11-10     15:00:03   \n",
       "614                   HOT 97           10    Music   2017-11-03     13:48:20   \n",
       "653     MadisonBeerMusicVEVO           10    Music   2017-11-03     13:59:25   \n",
       "659                     AT&T           10    Music   2017-11-01     15:01:19   \n",
       "661                    MILCK           10    Music   2017-11-03     13:01:57   \n",
       "...                      ...          ...      ...          ...          ...   \n",
       "170141                SMTOWN           10    Music   2018-06-11     09:00:04   \n",
       "170143           BBC Radio 1           10    Music   2018-06-08     13:49:47   \n",
       "170146            NickyJamTV           10    Music   2018-06-08     11:58:38   \n",
       "170147           Maroon5VEVO           10    Music   2018-06-09     07:01:01   \n",
       "170149            JuanesVEVO           10    Music   2018-06-01     02:00:01   \n",
       "\n",
       "                                                     tags     views   likes  \\\n",
       "436     selena gomez wolves|\"alone marshmello\"|\"marshm...   3407008  207262   \n",
       "614     hot97|\"hot97app\"|\"music\"|\"video\"|\"hip hop\"|\"ra...    407075    5819   \n",
       "653     Madison|\"Beer\"|\"Say\"|\"It\"|\"To\"|\"My\"|\"Face\"|\"(O...   1053402   47309   \n",
       "659     Taylor Swift NOW|\"Taylor Swift\"|\"Swifties\"|\"Re...   1961295   61000   \n",
       "661     quiet|\"milck\"|\"ickw\"|\"i cant keep quiet\"|\"milk...    213094    2951   \n",
       "...                                                   ...       ...     ...   \n",
       "170141  샤이니|\"SHINee\"|\"태민\"|\"민호\"|\"온유\"|\"키\"|\"종현\"|\"TAEMIN\"|...   2085778  300278   \n",
       "170143  Charlie Puth|\"Shawn Mendes\"|\"In My Blood\"|\"Liv...    813101   55587   \n",
       "170146  Nicky Jam|\"NickyJamPR\"|\"latin\"|\"will smith\"|\"E...  20409647  568680   \n",
       "170147  Maroon 5|\"Adam Levine\"|\"3 Little Birds\"|\"Girls...   5517903  243696   \n",
       "170149  Juanes|\"Pa\"|\"Dentro\"|\"Universal\"|\"Music\"|\"Lati...  21853809   78212   \n",
       "\n",
       "        dislikes  comment_count  \\\n",
       "436         3167          13279   \n",
       "614          598           2815   \n",
       "653         1408           2407   \n",
       "659         1281              0   \n",
       "661          339            193   \n",
       "...          ...            ...   \n",
       "170141       881          19531   \n",
       "170143       863           2586   \n",
       "170146     44854          64390   \n",
       "170147     12874          16841   \n",
       "170149      5701           4780   \n",
       "\n",
       "                                        thumbnail_link  comments_disabled  \\\n",
       "436     https://i.ytimg.com/vi/fiusxyygqGk/default.jpg              False   \n",
       "614     https://i.ytimg.com/vi/kqbJCW-jxYM/default.jpg              False   \n",
       "653     https://i.ytimg.com/vi/676hNIhKO2M/default.jpg              False   \n",
       "659     https://i.ytimg.com/vi/Bu2Djx2ejlA/default.jpg               True   \n",
       "661     https://i.ytimg.com/vi/Tl_Qfj8780M/default.jpg              False   \n",
       "...                                                ...                ...   \n",
       "170141  https://i.ytimg.com/vi/IDpWeURKkbI/default.jpg              False   \n",
       "170143  https://i.ytimg.com/vi/IMwganRtaPM/default.jpg              False   \n",
       "170146  https://i.ytimg.com/vi/V15BYnSr0P8/default.jpg              False   \n",
       "170147  https://i.ytimg.com/vi/mUYsp5baMXo/default.jpg              False   \n",
       "170149  https://i.ytimg.com/vi/VhQmTmqcEY0/default.jpg              False   \n",
       "\n",
       "        ratings_disabled  video_error_or_removed  \\\n",
       "436                False                   False   \n",
       "614                False                   False   \n",
       "653                False                   False   \n",
       "659                False                   False   \n",
       "661                False                   False   \n",
       "...                  ...                     ...   \n",
       "170141             False                   False   \n",
       "170143             False                   False   \n",
       "170146             False                   False   \n",
       "170147             False                   False   \n",
       "170149             False                   False   \n",
       "\n",
       "                                              description country  \n",
       "436     PURCHASE YOU & ME HERE ▶ https://smarturl.it/m...      GB  \n",
       "614     HOT 97 App: http://www.hot97.com/hot97app\\n\\nY...      GB  \n",
       "653     Stream & Download ‘Say It To My Face’ now from...      GB  \n",
       "659     Get an unprecedented glimpse into Taylor's son...      GB  \n",
       "661     Trigger Warning: This video portrays subtle ye...      GB  \n",
       "...                                                   ...     ...  \n",
       "170141  SHINee's the 6th album 'The Story of Light’ EP...      GB  \n",
       "170143  Charlie Puth covers his mate Shawn Mendes' tra...      GB  \n",
       "170146  Nicky Jam feat. Will Smith & Era Istrefi - Liv...      GB  \n",
       "170147  3 Little Birds” is out now.http://smarturl.it/...      GB  \n",
       "170149  Music video by Juanes performing Pa Dentro. © ...      GB  \n",
       "\n",
       "[844 rows x 19 columns]"
      ]
     },
     "execution_count": 31,
     "metadata": {},
     "output_type": "execute_result"
    }
   ],
   "source": [
    "gb_df.loc[gb_df['category'] == 'Music']"
   ]
  },
  {
   "cell_type": "code",
   "execution_count": 39,
   "metadata": {},
   "outputs": [],
   "source": [
    "music_df=gb_df.loc[gb_df['category'] == 'Music']"
   ]
  },
  {
   "cell_type": "code",
   "execution_count": 84,
   "metadata": {},
   "outputs": [],
   "source": [
    "top_vids_df=music_df.sort_values(by='views', ascending=False)"
   ]
  },
  {
   "cell_type": "code",
   "execution_count": 85,
   "metadata": {},
   "outputs": [],
   "source": [
    "top_msc_df=top_vids_df.drop(columns=['video_id', 'trending_date', 'category_id', 'category', 'publish_date', 'publish_time', 'tags','thumbnail_link','comments_disabled', 'ratings_disabled', 'video_error_or_removed', 'description', 'country'])"
   ]
  },
  {
   "cell_type": "code",
   "execution_count": 86,
   "metadata": {},
   "outputs": [
    {
     "data": {
      "text/html": [
       "<div>\n",
       "<style scoped>\n",
       "    .dataframe tbody tr th:only-of-type {\n",
       "        vertical-align: middle;\n",
       "    }\n",
       "\n",
       "    .dataframe tbody tr th {\n",
       "        vertical-align: top;\n",
       "    }\n",
       "\n",
       "    .dataframe thead th {\n",
       "        text-align: right;\n",
       "    }\n",
       "</style>\n",
       "<table border=\"1\" class=\"dataframe\">\n",
       "  <thead>\n",
       "    <tr style=\"text-align: right;\">\n",
       "      <th></th>\n",
       "      <th>title</th>\n",
       "      <th>channel_title</th>\n",
       "      <th>views</th>\n",
       "      <th>likes</th>\n",
       "      <th>dislikes</th>\n",
       "      <th>comment_count</th>\n",
       "    </tr>\n",
       "  </thead>\n",
       "  <tbody>\n",
       "    <tr>\n",
       "      <td>119441</td>\n",
       "      <td>Nicky Jam x J. Balvin - X (EQUIS) | Video Ofic...</td>\n",
       "      <td>NickyJamTV</td>\n",
       "      <td>424538912</td>\n",
       "      <td>2818771</td>\n",
       "      <td>149275</td>\n",
       "      <td>99380</td>\n",
       "    </tr>\n",
       "    <tr>\n",
       "      <td>149316</td>\n",
       "      <td>Te Bote Remix - Casper, Nio García, Darell, Ni...</td>\n",
       "      <td>Flow La Movie</td>\n",
       "      <td>337621571</td>\n",
       "      <td>2581961</td>\n",
       "      <td>166549</td>\n",
       "      <td>113564</td>\n",
       "    </tr>\n",
       "    <tr>\n",
       "      <td>105767</td>\n",
       "      <td>Bad Bunny - Amorfoda | Video Oficial</td>\n",
       "      <td>Bad Bunny</td>\n",
       "      <td>328860380</td>\n",
       "      <td>3823879</td>\n",
       "      <td>215530</td>\n",
       "      <td>225216</td>\n",
       "    </tr>\n",
       "  </tbody>\n",
       "</table>\n",
       "</div>"
      ],
      "text/plain": [
       "                                                    title  channel_title  \\\n",
       "119441  Nicky Jam x J. Balvin - X (EQUIS) | Video Ofic...     NickyJamTV   \n",
       "149316  Te Bote Remix - Casper, Nio García, Darell, Ni...  Flow La Movie   \n",
       "105767               Bad Bunny - Amorfoda | Video Oficial      Bad Bunny   \n",
       "\n",
       "            views    likes  dislikes  comment_count  \n",
       "119441  424538912  2818771    149275          99380  \n",
       "149316  337621571  2581961    166549         113564  \n",
       "105767  328860380  3823879    215530         225216  "
      ]
     },
     "execution_count": 86,
     "metadata": {},
     "output_type": "execute_result"
    }
   ],
   "source": [
    "top_msc_df.head(3)"
   ]
  },
  {
   "cell_type": "code",
   "execution_count": 70,
   "metadata": {},
   "outputs": [],
   "source": [
    "top_three = top_msc_df.head(3)"
   ]
  },
  {
   "cell_type": "code",
   "execution_count": 71,
   "metadata": {},
   "outputs": [
    {
     "data": {
      "text/html": [
       "<div>\n",
       "<style scoped>\n",
       "    .dataframe tbody tr th:only-of-type {\n",
       "        vertical-align: middle;\n",
       "    }\n",
       "\n",
       "    .dataframe tbody tr th {\n",
       "        vertical-align: top;\n",
       "    }\n",
       "\n",
       "    .dataframe thead th {\n",
       "        text-align: right;\n",
       "    }\n",
       "</style>\n",
       "<table border=\"1\" class=\"dataframe\">\n",
       "  <thead>\n",
       "    <tr style=\"text-align: right;\">\n",
       "      <th></th>\n",
       "      <th>title</th>\n",
       "      <th>channel_title</th>\n",
       "      <th>views</th>\n",
       "      <th>likes</th>\n",
       "      <th>dislikes</th>\n",
       "      <th>comment_count</th>\n",
       "    </tr>\n",
       "  </thead>\n",
       "  <tbody>\n",
       "    <tr>\n",
       "      <td>119441</td>\n",
       "      <td>Nicky Jam x J. Balvin - X (EQUIS) | Video Ofic...</td>\n",
       "      <td>NickyJamTV</td>\n",
       "      <td>424538912</td>\n",
       "      <td>2818771</td>\n",
       "      <td>149275</td>\n",
       "      <td>99380</td>\n",
       "    </tr>\n",
       "    <tr>\n",
       "      <td>149316</td>\n",
       "      <td>Te Bote Remix - Casper, Nio García, Darell, Ni...</td>\n",
       "      <td>Flow La Movie</td>\n",
       "      <td>337621571</td>\n",
       "      <td>2581961</td>\n",
       "      <td>166549</td>\n",
       "      <td>113564</td>\n",
       "    </tr>\n",
       "    <tr>\n",
       "      <td>105767</td>\n",
       "      <td>Bad Bunny - Amorfoda | Video Oficial</td>\n",
       "      <td>Bad Bunny</td>\n",
       "      <td>328860380</td>\n",
       "      <td>3823879</td>\n",
       "      <td>215530</td>\n",
       "      <td>225216</td>\n",
       "    </tr>\n",
       "  </tbody>\n",
       "</table>\n",
       "</div>"
      ],
      "text/plain": [
       "                                                    title  channel_title  \\\n",
       "119441  Nicky Jam x J. Balvin - X (EQUIS) | Video Ofic...     NickyJamTV   \n",
       "149316  Te Bote Remix - Casper, Nio García, Darell, Ni...  Flow La Movie   \n",
       "105767               Bad Bunny - Amorfoda | Video Oficial      Bad Bunny   \n",
       "\n",
       "            views    likes  dislikes  comment_count  \n",
       "119441  424538912  2818771    149275          99380  \n",
       "149316  337621571  2581961    166549         113564  \n",
       "105767  328860380  3823879    215530         225216  "
      ]
     },
     "execution_count": 71,
     "metadata": {},
     "output_type": "execute_result"
    }
   ],
   "source": [
    "top_three"
   ]
  },
  {
   "cell_type": "code",
   "execution_count": 88,
   "metadata": {},
   "outputs": [
    {
     "data": {
      "text/plain": [
       "Text(0, 0.5, 'Views')"
      ]
     },
     "execution_count": 88,
     "metadata": {},
     "output_type": "execute_result"
    },
    {
     "data": {
      "image/png": "[encoded data removed]",
      "text/plain": [
       "<Figure size 720x720 with 1 Axes>"
      ]
     },
     "metadata": {
      "needs_background": "light"
     },
     "output_type": "display_data"
    }
   ],
   "source": [
    "fig = plt.figure(figsize=(10, 10)) # define plot area\n",
    "ax = fig.gca() # define axis       \n",
    "\n",
    "top_three.plot(x = 'channel_title', y = 'views', ax = ax) ## line is the default plot type\n",
    "\n",
    "ax.set_title('Line plot of x^2 vs. x') # Give the plot a main title\n",
    "ax.set_xlabel('Title') # Set text for the x axis\n",
    "ax.set_ylabel('Views')# Set text for y axis"
   ]
  },
  {
   "cell_type": "code",
   "execution_count": 72,
   "metadata": {},
   "outputs": [
    {
     "data": {
      "text/plain": [
       "Text(0, 0.5, 'Likes')"
      ]
     },
     "execution_count": 72,
     "metadata": {},
     "output_type": "execute_result"
    },
    {
     "data": {
      "image/png": "[encoded data removed]",
      "text/plain": [
       "<Figure size 720x720 with 1 Axes>"
      ]
     },
     "metadata": {
      "needs_background": "light"
     },
     "output_type": "display_data"
    }
   ],
   "source": [
    "fig = plt.figure(figsize=(10, 10)) # define plot area\n",
    "ax = fig.gca() # define axis       \n",
    "\n",
    "top_three.plot(x = 'channel_title', y = 'likes', ax = ax) ## line is the default plot type\n",
    "\n",
    "ax.set_title('Line plot of x^2 vs. x') # Give the plot a main title\n",
    "ax.set_xlabel('Title') # Set text for the x axis\n",
    "ax.set_ylabel('Likes')# Set text for y axis"
   ]
  },
  {
   "cell_type": "code",
   "execution_count": 73,
   "metadata": {},
   "outputs": [
    {
     "data": {
      "text/plain": [
       "Text(0, 0.5, 'Likes')"
      ]
     },
     "execution_count": 73,
     "metadata": {},
     "output_type": "execute_result"
    },
    {
     "data": {
      "image/png": "[encoded data removed]",
      "text/plain": [
       "<Figure size 720x720 with 1 Axes>"
      ]
     },
     "metadata": {
      "needs_background": "light"
     },
     "output_type": "display_data"
    }
   ],
   "source": [
    "fig = plt.figure(figsize=(10, 10)) # define plot area\n",
    "ax = fig.gca() # define axis       \n",
    "\n",
    "top_three.plot(x = 'channel_title', y = 'dislikes', ax = ax) ## line is the default plot type\n",
    "\n",
    "ax.set_title('Line plot of x^2 vs. x') # Give the plot a main title\n",
    "ax.set_xlabel('Title') # Set text for the x axis\n",
    "ax.set_ylabel('Likes')# Set text for y axis"
   ]
  },
  {
   "cell_type": "code",
   "execution_count": 74,
   "metadata": {
    "scrolled": false
   },
   "outputs": [
    {
     "data": {
      "text/plain": [
       "Text(0, 0.5, 'Likes')"
      ]
     },
     "execution_count": 74,
     "metadata": {},
     "output_type": "execute_result"
    },
    {
     "data": {
      "image/png": "[encoded data removed]",
      "text/plain": [
       "<Figure size 720x720 with 1 Axes>"
      ]
     },
     "metadata": {
      "needs_background": "light"
     },
     "output_type": "display_data"
    }
   ],
   "source": [
    "fig = plt.figure(figsize=(10, 10)) # define plot area\n",
    "ax = fig.gca() # define axis       \n",
    "\n",
    "top_three.plot(x = 'channel_title', y = 'comment_count', ax = ax) ## line is the default plot type\n",
    "\n",
    "ax.set_title('Line plot of x^2 vs. x') # Give the plot a main title\n",
    "ax.set_xlabel('Title') # Set text for the x axis\n",
    "ax.set_ylabel('Likes')# Set text for y axis"
   ]
  },
  {
   "cell_type": "code",
   "execution_count": null,
   "metadata": {},
   "outputs": [],
   "source": []
  }
 ],
 "metadata": {
  "kernelspec": {
   "display_name": "Python 3",
   "language": "python",
   "name": "python3"
  },
  "language_info": {
   "codemirror_mode": {
    "name": "ipython",
    "version": 3
   },
   "file_extension": ".py",
   "mimetype": "text/x-python",
   "name": "python",
   "nbconvert_exporter": "python",
   "pygments_lexer": "ipython3",
   "version": "3.7.3"
  }
 },
 "nbformat": 4,
 "nbformat_minor": 2
}
